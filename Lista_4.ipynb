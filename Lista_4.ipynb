{
  "cells": [
    {
      "cell_type": "markdown",
      "metadata": {
        "id": "WRW6p8ZpZ0Th"
      },
      "source": [
        "## Imports"
      ]
    },
    {
      "cell_type": "code",
      "execution_count": 31,
      "metadata": {
        "id": "JX-PiNczZuPQ"
      },
      "outputs": [],
      "source": [
        "import pandas as pd\n",
        "import numpy as np\n",
        "from sklearn.model_selection import train_test_split\n",
        "import matplotlib.pyplot as plt\n",
        "import seaborn as sns\n",
        "from sklearn.svm import SVC\n",
        "from sklearn.tree import DecisionTreeClassifier"
      ]
    },
    {
      "cell_type": "markdown",
      "metadata": {
        "id": "cEOrRUqUaC8H"
      },
      "source": [
        "# Implementation"
      ]
    },
    {
      "cell_type": "markdown",
      "metadata": {
        "id": "Q4gYd3Xkbw1g"
      },
      "source": [
        "## Data Normalization"
      ]
    },
    {
      "cell_type": "code",
      "execution_count": 32,
      "metadata": {
        "id": "vIZwTXPCbwY5"
      },
      "outputs": [],
      "source": [
        "def normalization(df, mean_and_std = None):\n",
        "\n",
        "  if mean_and_std is None:\n",
        "    mean_and_std = pd.DataFrame(columns = ['column_name', 'mean', 'std'])\n",
        "\n",
        "    for column in df.columns:\n",
        "      mean = df[column].mean()\n",
        "      std = df[column].std()\n",
        "\n",
        "      df[column] = (df[column] - mean) / std\n",
        "\n",
        "      new_row = {'column_name':column, 'mean':mean, 'std':std}\n",
        "      new_row = pd.DataFrame([new_row])\n",
        "      mean_and_std = pd.concat([mean_and_std, new_row], ignore_index = True)\n",
        "\n",
        "    return df, mean_and_std\n",
        "\n",
        "  else:\n",
        "    for column in df.columns:\n",
        "      mean = mean_and_std.loc[mean_and_std['column_name'] == column, 'mean'].values[0]\n",
        "      std = mean_and_std.loc[mean_and_std['column_name'] == column, 'std'].values[0]\n",
        "      df[column] = (df[column] - mean) / std\n",
        "\n",
        "    return df"
      ]
    },
    {
      "cell_type": "markdown",
      "metadata": {
        "id": "PANGG5iqbZIh"
      },
      "source": [
        "## Metrics (accuracy, recall, precision and F1-score)"
      ]
    },
    {
      "cell_type": "code",
      "execution_count": 33,
      "metadata": {
        "id": "Ww02l2FObYZf"
      },
      "outputs": [],
      "source": [
        "def metrics(y_pred, y_true):\n",
        "  true_positive = np.sum((y_true == 1) & (y_pred == 1))\n",
        "  false_positive = np.sum((y_true == 0) & (y_pred == 1))\n",
        "  true_negative = np.sum((y_true == 0) & (y_pred == 0))\n",
        "  false_negative = np.sum((y_true == 1) & (y_pred == 0))\n",
        "\n",
        "  confusion_matrix = [[true_negative, false_positive], \\\n",
        "                      [false_negative, true_positive]]\n",
        "\n",
        "  confusion_matrix = pd.DataFrame(confusion_matrix, index = ['0', '1'], columns = ['0', '1'])\n",
        "\n",
        "  accuracy = (true_positive + true_negative) / (true_positive + false_positive + true_negative + false_negative)\n",
        "\n",
        "  precision = true_positive / (true_positive + false_positive) if (true_positive + false_positive) != 0 else 0\n",
        "\n",
        "  recall = true_positive / (true_positive + false_negative) if (true_positive + true_negative) != 0 else 0\n",
        "\n",
        "  f1 = 2 * (precision * recall) / (precision + recall) if (precision + recall) != 0 else 0\n",
        "\n",
        "  return confusion_matrix, accuracy, precision, recall, f1"
      ]
    },
    {
      "cell_type": "markdown",
      "metadata": {
        "id": "H-nCKgzQbgj_"
      },
      "source": [
        "# Main"
      ]
    },
    {
      "cell_type": "code",
      "execution_count": 34,
      "metadata": {
        "colab": {
          "base_uri": "https://localhost:8080/",
          "height": 390
        },
        "id": "N8GaJBt7aa1h",
        "outputId": "f9fe1515-13d5-4245-c617-8eae1b8b41a3"
      },
      "outputs": [],
      "source": [
        "# Dataframe creation\n",
        "df = pd.read_csv('bostonbin.csv', header = None)\n",
        "\n",
        "# Split between train and test\n",
        "df_train, df_test = train_test_split(df, test_size=0.3)\n",
        "\n",
        "# Normalize the data\n",
        "#df_train, mean_and_std = normalization(df_train)\n",
        "#df_test = normalization(df_test, mean_and_std)\n",
        "\n",
        "X_train = df_train.iloc[:, :-1].values\n",
        "y_train = df_train.iloc[:, -1].values\n",
        "\n",
        "X_test = df_test.iloc[:, :-1].values\n",
        "y_test = df_test.iloc[:, -1].values\n",
        "\n",
        "#y_test = y_test * mean_and_std['std'].iloc[-1]\n",
        "#y_test = y_test + mean_and_std['mean'].iloc[-1]\n"
      ]
    },
    {
      "cell_type": "markdown",
      "metadata": {
        "id": "4D0wBBYaG_-V"
      },
      "source": [
        "## SVM"
      ]
    },
    {
      "cell_type": "code",
      "execution_count": 35,
      "metadata": {
        "id": "t2WIj9I8HB6I"
      },
      "outputs": [
        {
          "name": "stdout",
          "output_type": "stream",
          "text": [
            "Best C: 32.0 \n",
            "Best gamma: 0.0001220703125 \n",
            "Smallest Error: 19.0 errors out of 152, (12.50% error percentage)\n"
          ]
        }
      ],
      "source": [
        "resultados = pd.DataFrame(columns = ['gamma', 'c', 'error', 'y_pred'])\n",
        "\n",
        "for c in [2**-5, 2**-3, 2**-1, 2**1, 2**3,  2**5, 2**7, 2**9, 2**11, 2**13, 2**15]:\n",
        "  for g in [2**-15, 2**-13, 2**-11, 2**-9, 2**-7, 2**-5, 2**-3, 2**-1, 2**1, 2**3, 2**5]:\n",
        "\n",
        "    model = SVC(kernel='rbf', C = c,  gamma = g)\n",
        "    model.fit(X_train, y_train)\n",
        "    y_pred = model.predict(X_test)\n",
        "\n",
        "    error = np.sum(np.abs(y_test - y_pred))\n",
        "\n",
        "    resultados.loc[len(resultados)] = [g, c, error, y_pred]\n",
        "\n",
        "resultados = resultados.sort_values(by=['error'], ascending=True)\n",
        "\n",
        "smallest_error = resultados['error'].iloc[0]\n",
        "best_pred = resultados['y_pred'].iloc[0]\n",
        "best_gamma = resultados['gamma'].iloc[0]\n",
        "best_C = resultados['c'].iloc[0]\n",
        "\n",
        "print(f'Best C: {best_C} \\nBest gamma: {best_gamma} \\nSmallest Error: {smallest_error} errors out of {len(best_pred)}, ({smallest_error / len(best_pred) * 100:.2f}% error percentage)')"
      ]
    },
    {
      "cell_type": "code",
      "execution_count": 36,
      "metadata": {
        "id": "ekNO1TLDq_w7"
      },
      "outputs": [],
      "source": [
        "model = SVC(kernel='rbf', C = best_C,  gamma = best_gamma)\n",
        "model.fit(X_train, y_train)\n",
        "y_pred = model.predict(X_test)"
      ]
    },
    {
      "cell_type": "code",
      "execution_count": 37,
      "metadata": {
        "id": "-LG9ZMv2DAfM"
      },
      "outputs": [],
      "source": [
        "confusion_matrix, accuracy, precision, recall, f1 = metrics(y_pred, y_test)"
      ]
    },
    {
      "cell_type": "code",
      "execution_count": 38,
      "metadata": {
        "id": "G5tBzgzHDLrM"
      },
      "outputs": [
        {
          "data": {
            "image/png": "[encoded data removed]",
            "text/plain": [
              "<Figure size 640x480 with 2 Axes>"
            ]
          },
          "metadata": {},
          "output_type": "display_data"
        }
      ],
      "source": [
        "sns.heatmap(confusion_matrix, annot=True, cmap=\"YlGnBu\")\n",
        "\n",
        "plt.xlabel(\"predicted values\")\n",
        "plt.ylabel(\"actual values\")\n",
        "plt.suptitle(f'accuracy : {accuracy:.2f} \\nprecision: {precision:.2f} \\nrecall: {recall:.2f}, \\nf1: {f1:.2f}', y=0, x = 0, horizontalalignment = 'left')\n",
        "\n",
        "plt.show()"
      ]
    },
    {
      "cell_type": "markdown",
      "metadata": {
        "id": "hCZDfd1W8k3S"
      },
      "source": [
        "## Árvore de Decisão\n"
      ]
    },
    {
      "cell_type": "code",
      "execution_count": 39,
      "metadata": {
        "id": "Luh2lLg88kFJ"
      },
      "outputs": [
        {
          "name": "stdout",
          "output_type": "stream",
          "text": [
            "Best tree size: 2 \n",
            "Best leaf size: 4 \n",
            "Smallest Error: 19.0 errors out of 152, (12.50% error percentage)\n"
          ]
        }
      ],
      "source": [
        "resultados = pd.DataFrame(columns = ['size_tree', 'size_leaf', 'error', 'y_pred'])\n",
        "\n",
        "for size_tree in [1,2,3,4,5,6,7,8,9,10]:\n",
        "  for size_leaf in [1,2,3,4,5]:\n",
        "    tree = DecisionTreeClassifier(max_depth = size_tree, min_samples_leaf = size_leaf)\n",
        "    tree.fit(X_train, y_train)\n",
        "    y_pred = tree.predict(X_test)\n",
        "\n",
        "    error = np.sum(np.abs(y_test - y_pred))\n",
        "\n",
        "    resultados.loc[len(resultados)] = [size_tree, size_leaf, error, y_pred]\n",
        "\n",
        "resultados = resultados.sort_values(by=['error'], ascending=True)\n",
        "\n",
        "smallest_error = resultados['error'].iloc[0]\n",
        "best_pred = resultados['y_pred'].iloc[0]\n",
        "best_size_tree = resultados['size_tree'].iloc[0]\n",
        "best_size_leaf = resultados['size_leaf'].iloc[0]\n",
        "\n",
        "print(f'Best tree size: {best_size_tree} \\nBest leaf size: {best_size_leaf} \\nSmallest Error: {smallest_error} errors out of {len(best_pred)}, ({smallest_error / len(best_pred) * 100:.2f}% error percentage)')"
      ]
    },
    {
      "cell_type": "code",
      "execution_count": 40,
      "metadata": {
        "id": "gJIDMl1CKVSy"
      },
      "outputs": [],
      "source": [
        "tree = DecisionTreeClassifier(max_depth = best_size_tree, min_samples_leaf = best_size_leaf)\n",
        "tree.fit(X_train, y_train)\n",
        "y_pred = tree.predict(X_test)"
      ]
    },
    {
      "cell_type": "code",
      "execution_count": 41,
      "metadata": {
        "id": "YjBB4DryLgOu"
      },
      "outputs": [],
      "source": [
        "confusion_matrix, accuracy, precision, recall, f1 = metrics(y_pred, y_test)"
      ]
    },
    {
      "cell_type": "code",
      "execution_count": 42,
      "metadata": {
        "id": "k9VRzNgKLhxX"
      },
      "outputs": [
        {
          "data": {
            "image/png": "[encoded data removed]",
            "text/plain": [
              "<Figure size 640x480 with 2 Axes>"
            ]
          },
          "metadata": {},
          "output_type": "display_data"
        }
      ],
      "source": [
        "sns.heatmap(confusion_matrix, annot=True, cmap=\"YlGnBu\")\n",
        "\n",
        "plt.xlabel(\"predicted values\")\n",
        "plt.ylabel(\"actual values\")\n",
        "plt.suptitle(f'accuracy : {accuracy:.2f} \\nprecision: {precision:.2f} \\nrecall: {recall:.2f}, \\nf1: {f1:.2f}', y=0, x = 0, horizontalalignment = 'left')\n",
        "\n",
        "plt.show()"
      ]
    }
  ],
  "metadata": {
    "colab": {
      "provenance": []
    },
    "kernelspec": {
      "display_name": "Python 3",
      "name": "python3"
    },
    "language_info": {
      "codemirror_mode": {
        "name": "ipython",
        "version": 3
      },
      "file_extension": ".py",
      "mimetype": "text/x-python",
      "name": "python",
      "nbconvert_exporter": "python",
      "pygments_lexer": "ipython3",
      "version": "3.12.0"
    }
  },
  "nbformat": 4,
  "nbformat_minor": 0
}
